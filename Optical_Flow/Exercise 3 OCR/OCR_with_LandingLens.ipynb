{
  "cells": [
    {
      "cell_type": "markdown",
      "metadata": {
        "id": "view-in-github",
        "colab_type": "text"
      },
      "source": [
        "<a href=\"https://colab.research.google.com/github/zzhuqshun/PEA_SS23/blob/main/Optical_Flow/Exercise%203%20OCR/OCR_with_LandingLens.ipynb\" target=\"_parent\"><img src=\"https://colab.research.google.com/assets/colab-badge.svg\" alt=\"Open In Colab\"/></a>"
      ]
    },
    {
      "cell_type": "markdown",
      "metadata": {
        "id": "6pA5Lc5ONMZK"
      },
      "source": [
        "## Installation and Setup\n",
        "\n",
        "1. Install the `landingai` python package.\n",
        "2. We prepared a video clip with license plates from different cars on a street. Download the video clip to your local drive.\n",
        "\n",
        "The video file will be downloaded at `/tmp/User_1_OCR2.mp4`"
      ]
    },
    {
      "cell_type": "code",
      "execution_count": 1,
      "metadata": {
        "colab": {
          "base_uri": "https://localhost:8080/"
        },
        "collapsed": true,
        "id": "FEk4agDhNMZL",
        "outputId": "adeb5c86-df04-4d86-9427-b401841da660",
        "scrolled": true
      },
      "outputs": [
        {
          "output_type": "stream",
          "name": "stdout",
          "text": [
            "Collecting landingai\n",
            "  Downloading landingai-0.3.44-py3-none-any.whl (1.0 MB)\n",
            "\u001b[2K     \u001b[90m━━━━━━━━━━━━━━━━━━━━━━━━━━━━━━━━━━━━━━━━\u001b[0m \u001b[32m1.0/1.0 MB\u001b[0m \u001b[31m5.1 MB/s\u001b[0m eta \u001b[36m0:00:00\u001b[0m\n",
            "\u001b[?25hRequirement already satisfied: gdown in /usr/local/lib/python3.10/dist-packages (5.1.0)\n",
            "Collecting aiofiles<1.0.0,>=0.7.0 (from landingai)\n",
            "  Downloading aiofiles-0.8.0-py3-none-any.whl (13 kB)\n",
            "Requirement already satisfied: aiohttp[speedups]<4.0.0,>=3.7.3 in /usr/local/lib/python3.10/dist-packages (from landingai) (3.9.5)\n",
            "Collecting bbox-visualizer<0.2.0,>=0.1.0 (from landingai)\n",
            "  Downloading bbox_visualizer-0.1.0-py2.py3-none-any.whl (6.2 kB)\n",
            "Requirement already satisfied: imageio[ffmpeg]<3.0.0,>=2.0.0 in /usr/local/lib/python3.10/dist-packages (from landingai) (2.31.6)\n",
            "Requirement already satisfied: numpy<2.0.0,>=1.21.0 in /usr/local/lib/python3.10/dist-packages (from landingai) (1.25.2)\n",
            "Requirement already satisfied: opencv-python<5.0,>=4.5 in /usr/local/lib/python3.10/dist-packages (from landingai) (4.8.0.76)\n",
            "Requirement already satisfied: pandas<3.0.0,>=2.0.0 in /usr/local/lib/python3.10/dist-packages (from landingai) (2.0.3)\n",
            "Requirement already satisfied: pillow<11.0,>=9.0 in /usr/local/lib/python3.10/dist-packages (from landingai) (9.4.0)\n",
            "Requirement already satisfied: pydantic<3.0.0,>=2.0.0 in /usr/local/lib/python3.10/dist-packages (from landingai) (2.8.0)\n",
            "Collecting pydantic-settings<3.0.0,>=2.3.1 (from landingai)\n",
            "  Downloading pydantic_settings-2.3.4-py3-none-any.whl (22 kB)\n",
            "Requirement already satisfied: requests<3.0.0,>=2.0.0 in /usr/local/lib/python3.10/dist-packages (from landingai) (2.31.0)\n",
            "Collecting requests-toolbelt<2.0.0,>=1.0.0 (from landingai)\n",
            "  Downloading requests_toolbelt-1.0.0-py2.py3-none-any.whl (54 kB)\n",
            "\u001b[2K     \u001b[90m━━━━━━━━━━━━━━━━━━━━━━━━━━━━━━━━━━━━━━━━\u001b[0m \u001b[32m54.5/54.5 kB\u001b[0m \u001b[31m4.5 MB/s\u001b[0m eta \u001b[36m0:00:00\u001b[0m\n",
            "\u001b[?25hCollecting segmentation-mask-overlay<0.4.0,>=0.3.4 (from landingai)\n",
            "  Downloading segmentation_mask_overlay-0.3.4-py3-none-any.whl (276 kB)\n",
            "\u001b[2K     \u001b[90m━━━━━━━━━━━━━━━━━━━━━━━━━━━━━━━━━━━━━━━━\u001b[0m \u001b[32m276.6/276.6 kB\u001b[0m \u001b[31m13.4 MB/s\u001b[0m eta \u001b[36m0:00:00\u001b[0m\n",
            "\u001b[?25hRequirement already satisfied: tenacity<9.0.0,>=8.2.3 in /usr/local/lib/python3.10/dist-packages (from landingai) (8.4.2)\n",
            "Requirement already satisfied: tqdm<5.0.0,>=4.64.0 in /usr/local/lib/python3.10/dist-packages (from landingai) (4.66.4)\n",
            "Collecting urllib3<2.0.0,>=1.26.0 (from landingai)\n",
            "  Downloading urllib3-1.26.19-py2.py3-none-any.whl (143 kB)\n",
            "\u001b[2K     \u001b[90m━━━━━━━━━━━━━━━━━━━━━━━━━━━━━━━━━━━━━━━━\u001b[0m \u001b[32m143.9/143.9 kB\u001b[0m \u001b[31m7.0 MB/s\u001b[0m eta \u001b[36m0:00:00\u001b[0m\n",
            "\u001b[?25hRequirement already satisfied: beautifulsoup4 in /usr/local/lib/python3.10/dist-packages (from gdown) (4.12.3)\n",
            "Requirement already satisfied: filelock in /usr/local/lib/python3.10/dist-packages (from gdown) (3.15.4)\n",
            "Requirement already satisfied: aiosignal>=1.1.2 in /usr/local/lib/python3.10/dist-packages (from aiohttp[speedups]<4.0.0,>=3.7.3->landingai) (1.3.1)\n",
            "Requirement already satisfied: attrs>=17.3.0 in /usr/local/lib/python3.10/dist-packages (from aiohttp[speedups]<4.0.0,>=3.7.3->landingai) (23.2.0)\n",
            "Requirement already satisfied: frozenlist>=1.1.1 in /usr/local/lib/python3.10/dist-packages (from aiohttp[speedups]<4.0.0,>=3.7.3->landingai) (1.4.1)\n",
            "Requirement already satisfied: multidict<7.0,>=4.5 in /usr/local/lib/python3.10/dist-packages (from aiohttp[speedups]<4.0.0,>=3.7.3->landingai) (6.0.5)\n",
            "Requirement already satisfied: yarl<2.0,>=1.0 in /usr/local/lib/python3.10/dist-packages (from aiohttp[speedups]<4.0.0,>=3.7.3->landingai) (1.9.4)\n",
            "Requirement already satisfied: async-timeout<5.0,>=4.0 in /usr/local/lib/python3.10/dist-packages (from aiohttp[speedups]<4.0.0,>=3.7.3->landingai) (4.0.3)\n",
            "Collecting Brotli (from aiohttp[speedups]<4.0.0,>=3.7.3->landingai)\n",
            "  Downloading Brotli-1.1.0-cp310-cp310-manylinux_2_5_x86_64.manylinux1_x86_64.manylinux_2_12_x86_64.manylinux2010_x86_64.whl (3.0 MB)\n",
            "\u001b[2K     \u001b[90m━━━━━━━━━━━━━━━━━━━━━━━━━━━━━━━━━━━━━━━━\u001b[0m \u001b[32m3.0/3.0 MB\u001b[0m \u001b[31m14.6 MB/s\u001b[0m eta \u001b[36m0:00:00\u001b[0m\n",
            "\u001b[?25hCollecting aiodns (from aiohttp[speedups]<4.0.0,>=3.7.3->landingai)\n",
            "  Downloading aiodns-3.2.0-py3-none-any.whl (5.7 kB)\n",
            "Requirement already satisfied: imageio-ffmpeg in /usr/local/lib/python3.10/dist-packages (from imageio[ffmpeg]<3.0.0,>=2.0.0->landingai) (0.5.1)\n",
            "Requirement already satisfied: psutil in /usr/local/lib/python3.10/dist-packages (from imageio[ffmpeg]<3.0.0,>=2.0.0->landingai) (5.9.5)\n",
            "Requirement already satisfied: python-dateutil>=2.8.2 in /usr/local/lib/python3.10/dist-packages (from pandas<3.0.0,>=2.0.0->landingai) (2.8.2)\n",
            "Requirement already satisfied: pytz>=2020.1 in /usr/local/lib/python3.10/dist-packages (from pandas<3.0.0,>=2.0.0->landingai) (2023.4)\n",
            "Requirement already satisfied: tzdata>=2022.1 in /usr/local/lib/python3.10/dist-packages (from pandas<3.0.0,>=2.0.0->landingai) (2024.1)\n",
            "Requirement already satisfied: annotated-types>=0.4.0 in /usr/local/lib/python3.10/dist-packages (from pydantic<3.0.0,>=2.0.0->landingai) (0.7.0)\n",
            "Requirement already satisfied: pydantic-core==2.20.0 in /usr/local/lib/python3.10/dist-packages (from pydantic<3.0.0,>=2.0.0->landingai) (2.20.0)\n",
            "Requirement already satisfied: typing-extensions>=4.6.1 in /usr/local/lib/python3.10/dist-packages (from pydantic<3.0.0,>=2.0.0->landingai) (4.12.2)\n",
            "Collecting python-dotenv>=0.21.0 (from pydantic-settings<3.0.0,>=2.3.1->landingai)\n",
            "  Downloading python_dotenv-1.0.1-py3-none-any.whl (19 kB)\n",
            "Requirement already satisfied: charset-normalizer<4,>=2 in /usr/local/lib/python3.10/dist-packages (from requests<3.0.0,>=2.0.0->landingai) (3.3.2)\n",
            "Requirement already satisfied: idna<4,>=2.5 in /usr/local/lib/python3.10/dist-packages (from requests<3.0.0,>=2.0.0->landingai) (3.7)\n",
            "Requirement already satisfied: certifi>=2017.4.17 in /usr/local/lib/python3.10/dist-packages (from requests<3.0.0,>=2.0.0->landingai) (2024.6.2)\n",
            "Requirement already satisfied: matplotlib>=3.4.2 in /usr/local/lib/python3.10/dist-packages (from segmentation-mask-overlay<0.4.0,>=0.3.4->landingai) (3.7.1)\n",
            "Requirement already satisfied: opencv-python-headless>=4.5.3 in /usr/local/lib/python3.10/dist-packages (from segmentation-mask-overlay<0.4.0,>=0.3.4->landingai) (4.10.0.84)\n",
            "Requirement already satisfied: soupsieve>1.2 in /usr/local/lib/python3.10/dist-packages (from beautifulsoup4->gdown) (2.5)\n",
            "Requirement already satisfied: PySocks!=1.5.7,>=1.5.6 in /usr/local/lib/python3.10/dist-packages (from requests<3.0.0,>=2.0.0->landingai) (1.7.1)\n",
            "Requirement already satisfied: contourpy>=1.0.1 in /usr/local/lib/python3.10/dist-packages (from matplotlib>=3.4.2->segmentation-mask-overlay<0.4.0,>=0.3.4->landingai) (1.2.1)\n",
            "Requirement already satisfied: cycler>=0.10 in /usr/local/lib/python3.10/dist-packages (from matplotlib>=3.4.2->segmentation-mask-overlay<0.4.0,>=0.3.4->landingai) (0.12.1)\n",
            "Requirement already satisfied: fonttools>=4.22.0 in /usr/local/lib/python3.10/dist-packages (from matplotlib>=3.4.2->segmentation-mask-overlay<0.4.0,>=0.3.4->landingai) (4.53.0)\n",
            "Requirement already satisfied: kiwisolver>=1.0.1 in /usr/local/lib/python3.10/dist-packages (from matplotlib>=3.4.2->segmentation-mask-overlay<0.4.0,>=0.3.4->landingai) (1.4.5)\n",
            "Requirement already satisfied: packaging>=20.0 in /usr/local/lib/python3.10/dist-packages (from matplotlib>=3.4.2->segmentation-mask-overlay<0.4.0,>=0.3.4->landingai) (24.1)\n",
            "Requirement already satisfied: pyparsing>=2.3.1 in /usr/local/lib/python3.10/dist-packages (from matplotlib>=3.4.2->segmentation-mask-overlay<0.4.0,>=0.3.4->landingai) (3.1.2)\n",
            "Requirement already satisfied: six>=1.5 in /usr/local/lib/python3.10/dist-packages (from python-dateutil>=2.8.2->pandas<3.0.0,>=2.0.0->landingai) (1.16.0)\n",
            "Collecting pycares>=4.0.0 (from aiodns->aiohttp[speedups]<4.0.0,>=3.7.3->landingai)\n",
            "  Downloading pycares-4.4.0-cp310-cp310-manylinux_2_17_x86_64.manylinux2014_x86_64.whl (288 kB)\n",
            "\u001b[2K     \u001b[90m━━━━━━━━━━━━━━━━━━━━━━━━━━━━━━━━━━━━━━━━\u001b[0m \u001b[32m288.7/288.7 kB\u001b[0m \u001b[31m18.1 MB/s\u001b[0m eta \u001b[36m0:00:00\u001b[0m\n",
            "\u001b[?25hRequirement already satisfied: setuptools in /usr/local/lib/python3.10/dist-packages (from imageio-ffmpeg->imageio[ffmpeg]<3.0.0,>=2.0.0->landingai) (67.7.2)\n",
            "Requirement already satisfied: cffi>=1.5.0 in /usr/local/lib/python3.10/dist-packages (from pycares>=4.0.0->aiodns->aiohttp[speedups]<4.0.0,>=3.7.3->landingai) (1.16.0)\n",
            "Requirement already satisfied: pycparser in /usr/local/lib/python3.10/dist-packages (from cffi>=1.5.0->pycares>=4.0.0->aiodns->aiohttp[speedups]<4.0.0,>=3.7.3->landingai) (2.22)\n",
            "Installing collected packages: Brotli, urllib3, python-dotenv, bbox-visualizer, aiofiles, pycares, segmentation-mask-overlay, requests-toolbelt, pydantic-settings, aiodns, landingai\n",
            "  Attempting uninstall: urllib3\n",
            "    Found existing installation: urllib3 2.0.7\n",
            "    Uninstalling urllib3-2.0.7:\n",
            "      Successfully uninstalled urllib3-2.0.7\n",
            "Successfully installed Brotli-1.1.0 aiodns-3.2.0 aiofiles-0.8.0 bbox-visualizer-0.1.0 landingai-0.3.44 pycares-4.4.0 pydantic-settings-2.3.4 python-dotenv-1.0.1 requests-toolbelt-1.0.0 segmentation-mask-overlay-0.3.4 urllib3-1.26.19\n",
            "Downloading...\n",
            "From (original): https://drive.google.com/uc?id=1KqpmxVtqZVe15IW8VfkQPXv7r168uJ95\n",
            "From (redirected): https://drive.google.com/uc?id=1KqpmxVtqZVe15IW8VfkQPXv7r168uJ95&confirm=t&uuid=64b40f22-afac-4b77-9281-423fa9155853\n",
            "To: /tmp/User_1_OCR2.mp4\n",
            "100% 397M/397M [00:09<00:00, 41.3MB/s]\n"
          ]
        }
      ],
      "source": [
        "!pip install landingai gdown\n",
        "\n",
        "!gdown --fuzzy \"https://drive.google.com/file/d/1KqpmxVtqZVe15IW8VfkQPXv7r168uJ95/view?usp=sharing\" -O /tmp/User_1_OCR2.mp4"
      ]
    },
    {
      "cell_type": "markdown",
      "metadata": {
        "id": "UUK9iQACNMZL"
      },
      "source": [
        "<a name=\"frame-extraction\"></a>\n",
        "## Frame Extraction\n",
        "\n",
        "In this section, we'll be extracting frames from a given video file. By reading the video frame-by-frame, we aim to save specific frames based on a set interval (e.g., every 100th frame) for further processing. This approach helps in reducing the computational load by processing only a subset of the frames instead of every single one.\n"
      ]
    },
    {
      "cell_type": "code",
      "execution_count": 2,
      "metadata": {
        "colab": {
          "base_uri": "https://localhost:8080/"
        },
        "id": "9B3zOJC7QYa1",
        "outputId": "fec5c521-2183-48ed-9811-77d1114a47e7"
      },
      "outputs": [
        {
          "output_type": "stream",
          "name": "stdout",
          "text": [
            "Mounted at /content/drive\n"
          ]
        }
      ],
      "source": [
        "from google.colab import drive\n",
        "drive.mount('/content/drive')"
      ]
    },
    {
      "cell_type": "code",
      "execution_count": 3,
      "metadata": {
        "colab": {
          "base_uri": "https://localhost:8080/",
          "height": 277
        },
        "id": "NhObsvPyNMZM",
        "outputId": "65bd8fa4-d5be-4016-d7c5-7cca6bef3aa7"
      },
      "outputs": [
        {
          "output_type": "execute_result",
          "data": {
            "text/plain": [
              "<IPython.core.display.Video object>"
            ],
            "text/html": [
              "<video src=\"https://drive.google.com/file/d/1KqpmxVtqZVe15IW8VfkQPXv7r168uJ95/view?usp=sharing\" controls  width=\"512\" >\n",
              "      Your browser does not support the <code>video</code> element.\n",
              "    </video>"
            ]
          },
          "metadata": {},
          "execution_count": 3
        }
      ],
      "source": [
        "from IPython.display import Video\n",
        "Video(\"https://drive.google.com/file/d/1KqpmxVtqZVe15IW8VfkQPXv7r168uJ95/view?usp=sharing\", width=512)"
      ]
    },
    {
      "cell_type": "code",
      "execution_count": 4,
      "metadata": {
        "colab": {
          "base_uri": "https://localhost:8080/"
        },
        "id": "Y97nF4ISNMZM",
        "outputId": "d70a73cf-b3fd-49d5-db48-111795717e97"
      },
      "outputs": [
        {
          "output_type": "stream",
          "name": "stdout",
          "text": [
            "Extracted 62 frames from the above video\n"
          ]
        }
      ],
      "source": [
        "from landingai.pipeline.image_source import VideoFile\n",
        "\n",
        "# Replace 'path_to_video_file' with the actual path to your video file\n",
        "# video_file_path = '/Users/whit_blodgett/Desktop/Code/landing-apps-poc/license_plate_ocr_app/IMG_2464.MOV'\n",
        "video_file_path = \"/tmp/User_1_OCR2.mp4\"\n",
        "\n",
        "video_source = VideoFile(video_file_path, samples_per_second=1)\n",
        "frames = [f.image for f in video_source]\n",
        "print(f\"Extracted {len(frames)} frames from the above video\")"
      ]
    },
    {
      "cell_type": "markdown",
      "metadata": {
        "id": "lhGd3sdoNMZO"
      },
      "source": [
        "<a name=\"ocr-and-data-retrieval\"></a>\n",
        "\n",
        "## OCR and Data Retrieval\n",
        "In this section, we'll pass the cropped license plate images through an optical character recognition (OCR) model. The job of the OCR model is to convert the image of the license plate into a string of text, allowing us to retrieve the license plate number."
      ]
    },
    {
      "cell_type": "code",
      "execution_count": 5,
      "metadata": {
        "colab": {
          "base_uri": "https://localhost:8080/"
        },
        "id": "5B6Mio0NNMZP",
        "outputId": "afde59a0-be48-4b57-cd4e-cd34e9b5b21e"
      },
      "outputs": [
        {
          "output_type": "stream",
          "name": "stdout",
          "text": [
            "<PIL.JpegImagePlugin.JpegImageFile image mode=RGB size=2880x2880 at 0x7DFBEC37F010>\n",
            "[[], [OcrPrediction(score=0.5247164368629456, text='mTm', location=[(1555, 137), (1693, 145), (1691, 187), (1553, 179)]), OcrPrediction(score=0.9376175999641418, text='smartSCAN', location=[(1745, 338), (1975, 355), (1972, 397), (1742, 380)])], [], [OcrPrediction(score=0.7532867193222046, text='mm', location=[(1446, 1283), (1571, 1295), (1565, 1348), (1441, 1337)])], [OcrPrediction(score=0.8702478408813477, text='smart SCAN3DHE', location=[(1208, 1576), (1793, 1559), (1795, 1622), (1210, 1639)])], [OcrPrediction(score=0.9711438417434692, text='breuckm', location=[(1179, 1389), (1302, 1389), (1302, 1422), (1179, 1422)]), OcrPrediction(score=0.8869534730911255, text='smar SCAN3DHE', location=[(1477, 1122), (2124, 1128), (2123, 1230), (1476, 1224)])], [OcrPrediction(score=0.6561986207962036, text='Euentun FhG', location=[(1025, 1402), (1111, 1394), (1114, 1427), (1028, 1435)]), OcrPrediction(score=0.9894975423812866, text='breuckm', location=[(1083, 1446), (1218, 1446), (1218, 1479), (1083, 1479)]), OcrPrediction(score=0.8812484741210938, text='smart SCAN3HE', location=[(1383, 1152), (2054, 1146), (2055, 1251), (1384, 1257)])], [OcrPrediction(score=0.9048771262168884, text='smart SCANHE', location=[(1697, 1063), (2422, 1046), (2425, 1148), (1700, 1165)])], [OcrPrediction(score=0.9684973955154419, text='breuckmanr', location=[(1691, 1238), (1906, 1255), (1903, 1294), (1688, 1277)]), OcrPrediction(score=0.8977879285812378, text='smart SCAN-HE', location=[(2103, 918), (2811, 981), (2801, 1095), (2093, 1032)])], [OcrPrediction(score=0.9857254028320312, text='breuckmann', location=[(1715, 1238), (1942, 1255), (1939, 1294), (1712, 1277)]), OcrPrediction(score=0.8923699855804443, text='smart SCANDHE', location=[(2133, 903), (2844, 969), (2833, 1092), (2122, 1026)])], [OcrPrediction(score=0.6394950747489929, text='EientumF82/231334', location=[(1659, 1163), (1859, 1187), (1854, 1225), (1654, 1201)]), OcrPrediction(score=0.9858208894729614, text='breuckmann', location=[(1703, 1220), (1927, 1237), (1924, 1282), (1700, 1265)]), OcrPrediction(score=0.9193609356880188, text='smart SCANHE', location=[(2127, 904), (2825, 997), (2809, 1121), (2110, 1027)])], [], [], [], [OcrPrediction(score=0.9919768571853638, text='Fraunhofer', location=[(1336, 1232), (1960, 1243), (1958, 1357), (1334, 1346)]), OcrPrediction(score=0.9755480885505676, text='IPK', location=[(1854, 1371), (1956, 1371), (1956, 1431), (1854, 1431)])], [OcrPrediction(score=0.9899209141731262, text='Fraunhofer', location=[(1433, 1408), (2093, 1397), (2095, 1520), (1435, 1531)]), OcrPrediction(score=0.9699632525444031, text='IPK', location=[(1983, 1527), (2097, 1527), (2097, 1599), (1983, 1599)])], [OcrPrediction(score=0.9881747961044312, text='Fraunhofer', location=[(1054, 1060), (1625, 1088), (1619, 1214), (1048, 1186)]), OcrPrediction(score=0.9687708020210266, text='IPK', location=[(1518, 1230), (1626, 1230), (1626, 1302), (1518, 1302)])], [OcrPrediction(score=0.9374576807022095, text='Fraunhofer', location=[(1222, 764), (1612, 748), (1619, 910), (1229, 926)]), OcrPrediction(score=0.9669675827026367, text='IPK', location=[(1563, 912), (1602, 912), (1602, 960), (1563, 960)]), OcrPrediction(score=0.9807901978492737, text='IPK', location=[(468, 1047), (561, 1047), (561, 1143), (468, 1143)]), OcrPrediction(score=0.5917659997940063, text='Ifaunhofer', location=[(134, 793), (530, 806), (523, 1010), (127, 997)])], [OcrPrediction(score=0.9913209080696106, text='Fraunhofer', location=[(553, 1221), (1353, 1101), (1373, 1236), (573, 1356)]), OcrPrediction(score=0.978395938873291, text='IPK', location=[(1273, 1261), (1370, 1249), (1378, 1313), (1281, 1325)])], [OcrPrediction(score=0.9917502403259277, text='Fraunhofer', location=[(631, 1003), (1365, 865), (1391, 1003), (657, 1141)]), OcrPrediction(score=0.973355770111084, text='IPK', location=[(1291, 1028), (1393, 1018), (1400, 1090), (1298, 1100)])], [OcrPrediction(score=0.9918404817581177, text='Fraunhofer', location=[(1368, 453), (2170, 393), (2181, 549), (1379, 609)]), OcrPrediction(score=0.9822783470153809, text='IPK', location=[(2055, 576), (2166, 576), (2166, 651), (2055, 651)])], [OcrPrediction(score=0.6254259943962097, text='OCE', location=[(1638, 2091), (1704, 2091), (1704, 2115), (1638, 2115)]), OcrPrediction(score=0.9657208323478699, text='Raspberry Pi', location=[(1664, 1816), (1832, 1808), (1834, 1850), (1666, 1858)]), OcrPrediction(score=0.8284612894058228, text='raunhofer', location=[(2108, 407), (2382, 457), (2359, 589), (2085, 539)])], [OcrPrediction(score=0.9883284568786621, text='Fra', location=[(2627, 550), (2763, 626), (2731, 684), (2595, 608)]), OcrPrediction(score=0.956341028213501, text='Raspberry Pi', location=[(1625, 1855), (1799, 1847), (1801, 1889), (1627, 1897)])], [OcrPrediction(score=0.9876623153686523, text='Fraunhofer', location=[(1728, 465), (2286, 513), (2275, 639), (1717, 591)]), OcrPrediction(score=0.9645967483520508, text='IPK', location=[(2160, 643), (2269, 656), (2259, 731), (2150, 718)]), OcrPrediction(score=0.9742842316627502, text='Raspberry Pi', location=[(1598, 1906), (1770, 1892), (1774, 1937), (1602, 1951)])], [OcrPrediction(score=0.9893290400505066, text='Fraunhofer', location=[(1520, 700), (2088, 740), (2080, 854), (1512, 814)]), OcrPrediction(score=0.9593193531036377, text='IPK', location=[(1983, 864), (2073, 864), (2073, 927), (1983, 927)])], [OcrPrediction(score=0.9870092272758484, text='Fraunhofer', location=[(1560, 578), (2053, 598), (2049, 712), (1556, 692)]), OcrPrediction(score=0.9743242859840393, text='IPK', location=[(1950, 726), (2034, 726), (2034, 792), (1950, 792)]), OcrPrediction(score=0.9694762825965881, text='Raspberry Pi', location=[(1709, 1847), (1870, 1858), (1867, 1894), (1706, 1883)])], [OcrPrediction(score=0.9891929626464844, text='Fraunhofer', location=[(1487, 569), (2065, 586), (2062, 700), (1484, 683)]), OcrPrediction(score=0.9513125419616699, text='IPK', location=[(1959, 717), (2052, 717), (2052, 780), (1959, 780)]), OcrPrediction(score=0.9688135385513306, text='RaspberryPi', location=[(1703, 1889), (1882, 1903), (1879, 1945), (1700, 1931)])], [OcrPrediction(score=0.9818774461746216, text='Fraunhofer', location=[(1397, 668), (1951, 685), (1948, 796), (1394, 779)]), OcrPrediction(score=0.9679312705993652, text='IPK', location=[(1854, 810), (1938, 810), (1938, 873), (1854, 873)]), OcrPrediction(score=0.9532341361045837, text='Raspberry Pi', location=[(1646, 1910), (1828, 1924), (1825, 1966), (1643, 1952)])], [OcrPrediction(score=0.9845407605171204, text='Fraunhofer', location=[(1641, 531), (2193, 687), (2160, 804), (1608, 648)]), OcrPrediction(score=0.9655300974845886, text='IPK', location=[(2060, 784), (2145, 809), (2125, 875), (2040, 850)])], [OcrPrediction(score=0.7124063372612, text='EUOUSB:CBlak', location=[(1653, 1881), (1809, 1881), (1809, 1914), (1653, 1914)]), OcrPrediction(score=0.9808211326599121, text='Fraunhofer', location=[(1692, 542), (2265, 671), (2239, 788), (1666, 659)]), OcrPrediction(score=0.94036465883255, text='IPK', location=[(2123, 774), (2223, 789), (2212, 861), (2112, 846)]), OcrPrediction(score=0.9554469585418701, text='Raspberry Pi', location=[(1646, 1834), (1808, 1826), (1810, 1871), (1648, 1879)])], [OcrPrediction(score=0.9873763918876648, text='Fraunhofer', location=[(1568, 762), (2115, 822), (2104, 927), (1557, 867)]), OcrPrediction(score=0.9562554359436035, text='IPK', location=[(2003, 925), (2102, 935), (2095, 1007), (1996, 998)])], [OcrPrediction(score=0.9824873805046082, text='Fraunhofer', location=[(1451, 664), (2001, 641), (2005, 752), (1455, 775)]), OcrPrediction(score=0.971968948841095, text='IPK', location=[(1917, 765), (2004, 765), (2004, 828), (1917, 828)])], [OcrPrediction(score=0.9869653582572937, text='Fraunhofer', location=[(1560, 564), (2058, 564), (2058, 669), (1560, 669)]), OcrPrediction(score=0.9720017313957214, text='IPK', location=[(1965, 690), (2052, 690), (2052, 753), (1965, 753)])], [OcrPrediction(score=0.9860587120056152, text='Fraunhofer', location=[(1569, 546), (2073, 546), (2073, 663), (1569, 663)]), OcrPrediction(score=0.9680716395378113, text='IPK', location=[(1974, 681), (2064, 681), (2064, 744), (1974, 744)])], [OcrPrediction(score=0.9818351864814758, text='Fraunhofer', location=[(1613, 494), (2134, 505), (2131, 622), (1610, 611)]), OcrPrediction(score=0.957427978515625, text='IPK', location=[(2031, 639), (2121, 639), (2121, 702), (2031, 702)])], [OcrPrediction(score=0.9879660606384277, text='Fraunhofer', location=[(1642, 480), (2146, 522), (2136, 639), (1632, 597)]), OcrPrediction(score=0.9560627937316895, text='IPK', location=[(2031, 648), (2127, 648), (2127, 723), (2031, 723)])], [OcrPrediction(score=0.9875651597976685, text='Fraunhofer', location=[(1778, 414), (2298, 504), (2278, 618), (1758, 528)]), OcrPrediction(score=0.9490980505943298, text='IPK', location=[(2168, 608), (2271, 624), (2259, 699), (2157, 683)]), OcrPrediction(score=0.9932949542999268, text='RaspberryPi', location=[(1621, 1730), (1759, 1737), (1757, 1771), (1619, 1764)])], [OcrPrediction(score=0.9924167394638062, text='Fraunhofer', location=[(1658, 379), (2291, 455), (2275, 590), (1642, 514)]), OcrPrediction(score=0.9647076725959778, text='IPK', location=[(2142, 585), (2265, 603), (2253, 687), (2130, 669)])], [OcrPrediction(score=0.9896945953369141, text='Fraunhofer', location=[(1030, 387), (1951, 300), (1971, 510), (1050, 597)]), OcrPrediction(score=0.9652392864227295, text='IPK', location=[(1782, 555), (1965, 555), (1965, 672), (1782, 672)])], [OcrPrediction(score=0.9780334234237671, text='Fraunhofer', location=[(1022, 31), (2080, 11), (2083, 176), (1025, 196)]), OcrPrediction(score=0.973803699016571, text='IPK', location=[(1898, 170), (2090, 199), (2072, 313), (1881, 283)])], [], [], [OcrPrediction(score=0.9948391914367676, text='Fraunhofer', location=[(1465, 664), (2057, 692), (2051, 815), (1459, 787)]), OcrPrediction(score=0.9577822685241699, text='IPK', location=[(1939, 821), (2051, 830), (2045, 898), (1933, 889)])], [OcrPrediction(score=0.9861933588981628, text='Fraunhofer', location=[(2141, 765), (2697, 861), (2677, 978), (2121, 882)]), OcrPrediction(score=0.9488337635993958, text='Fraunhofer', location=[(1785, 1530), (1947, 1530), (1947, 1581), (1785, 1581)]), OcrPrediction(score=0.9573333263397217, text='IPK', location=[(2574, 972), (2679, 987), (2668, 1066), (2562, 1050)]), OcrPrediction(score=0.9568691253662109, text='Kl-basierteAnoma', location=[(1452, 1686), (1668, 1686), (1668, 1719), (1452, 1719)]), OcrPrediction(score=0.8506512641906738, text='Mitgeringemn', location=[(1452, 1611), (1548, 1611), (1548, 1641), (1452, 1641)])], [OcrPrediction(score=0.9890165328979492, text='Fraunhofer', location=[(2137, 687), (2693, 784), (2672, 906), (2116, 809)]), OcrPrediction(score=0.9511734247207642, text='Fraunhofer', location=[(1736, 1462), (1894, 1451), (1897, 1493), (1739, 1504)]), OcrPrediction(score=0.957024097442627, text='IPK', location=[(2568, 895), (2674, 919), (2657, 992), (2552, 968)]), OcrPrediction(score=0.8884608745574951, text='KIl-basierte Anomalied', location=[(1397, 1633), (1675, 1610), (1678, 1652), (1400, 1675)])], [OcrPrediction(score=0.9872926473617554, text='Fraunhofer', location=[(2127, 603), (2664, 702), (2643, 819), (2105, 720)]), OcrPrediction(score=0.9891198873519897, text='Fraunhofer', location=[(1698, 1368), (1845, 1368), (1845, 1401), (1698, 1401)]), OcrPrediction(score=0.9615972638130188, text='IPK', location=[(2549, 811), (2651, 836), (2634, 904), (2532, 880)]), OcrPrediction(score=0.9339476823806763, text='Kl-basierte Anomal', location=[(1355, 1528), (1592, 1514), (1594, 1553), (1357, 1567)])], [OcrPrediction(score=0.9854483604431152, text='Fraunhofer', location=[(2058, 618), (2685, 729), (2664, 852), (2037, 741)]), OcrPrediction(score=0.9684455990791321, text='IPK', location=[(2579, 839), (2674, 863), (2656, 934), (2561, 910)])], [OcrPrediction(score=0.9878150224685669, text='Fraunhofer', location=[(2178, 618), (2701, 717), (2679, 834), (2156, 735)]), OcrPrediction(score=0.9814407229423523, text='Fraunhofer', location=[(1742, 1372), (1901, 1364), (1903, 1406), (1744, 1414)]), OcrPrediction(score=0.9628491997718811, text='IPK', location=[(2594, 823), (2693, 848), (2674, 923), (2575, 898)]), OcrPrediction(score=0.9402055740356445, text='Kl-basierte Anomal', location=[(1400, 1528), (1639, 1514), (1642, 1556), (1403, 1570)]), OcrPrediction(score=0.720382809638977, text='Mitgeringcn optischenh', location=[(1413, 1455), (1590, 1455), (1590, 1488), (1413, 1488)])], [OcrPrediction(score=0.9793818593025208, text='Fraunhofer', location=[(2088, 609), (2697, 723), (2676, 837), (2067, 723)]), OcrPrediction(score=0.9610578417778015, text='IPK', location=[(2585, 827), (2683, 851), (2665, 925), (2567, 901)]), OcrPrediction(score=0.9366527795791626, text='Kl-basierte', location=[(1395, 1521), (1524, 1521), (1524, 1551), (1395, 1551)])], [OcrPrediction(score=0.9869073629379272, text='Fraunhofer', location=[(1964, 741), (2562, 843), (2542, 957), (1944, 855)]), OcrPrediction(score=0.94905024766922, text='IPK', location=[(2434, 948), (2540, 962), (2531, 1038), (2425, 1024)])], [OcrPrediction(score=0.97553950548172, text='Fraunhofer', location=[(2074, 744), (2675, 839), (2657, 954), (2056, 859)]), OcrPrediction(score=0.9589817523956299, text='IPK', location=[(2566, 941), (2668, 964), (2651, 1039), (2549, 1016)])], [OcrPrediction(score=0.9877985119819641, text='Fraunhofer', location=[(2260, 593), (2833, 758), (2797, 883), (2224, 718)])], [OcrPrediction(score=0.98503577709198, text='Fraunhofe', location=[(2405, 630), (2852, 772), (2815, 889), (2368, 748)])], [OcrPrediction(score=0.979995608329773, text='Fraunhofer', location=[(2291, 654), (2808, 777), (2779, 903), (2262, 780)]), OcrPrediction(score=0.9723787903785706, text='IPK', location=[(2718, 897), (2782, 912), (2769, 966), (2705, 951)])], [OcrPrediction(score=0.9778693318367004, text='Fraunhofe', location=[(2418, 564), (2841, 720), (2799, 834), (2376, 678)])], [OcrPrediction(score=0.9860426187515259, text='Fraunhofer', location=[(2331, 615), (2801, 745), (2769, 861), (2299, 731)]), OcrPrediction(score=0.858903169631958, text='IPK', location=[(2712, 867), (2772, 867), (2772, 921), (2712, 921)])], [OcrPrediction(score=0.9842044711112976, text='Fraunhofer', location=[(2320, 794), (2825, 898), (2801, 1015), (2296, 911)])], [OcrPrediction(score=0.990567684173584, text='Fraunhofer', location=[(1957, 755), (2611, 829), (2598, 943), (1944, 869)]), OcrPrediction(score=0.955829381942749, text='IPK', location=[(2491, 940), (2597, 949), (2591, 1022), (2485, 1013)])], [OcrPrediction(score=0.9920122027397156, text='Fraunhofer', location=[(1777, 1307), (1951, 1315), (1949, 1360), (1775, 1352)]), OcrPrediction(score=0.9601243138313293, text='Kl-basierte Anomalie', location=[(1378, 1464), (1662, 1470), (1661, 1512), (1377, 1506)])], [OcrPrediction(score=0.9803668856620789, text='Fraunhofer', location=[(1674, 1304), (1832, 1322), (1827, 1363), (1669, 1345)]), OcrPrediction(score=0.7796027660369873, text='Iitgeringem Aufwanhd', location=[(1300, 1364), (1471, 1375), (1469, 1408), (1298, 1397)])], [OcrPrediction(score=0.9398032426834106, text='7:50', location=[(1701, 1902), (1752, 1902), (1752, 1923), (1701, 1923)]), OcrPrediction(score=0.9882861971855164, text='Fraunhofer', location=[(1590, 132), (2274, 249), (2253, 375), (1569, 258)]), OcrPrediction(score=0.9781776070594788, text='IPK', location=[(2142, 363), (2260, 385), (2247, 459), (2129, 437)]), OcrPrediction(score=0.9614372849464417, text='Kl-basierte Anomaliedetektion', location=[(284, 1428), (810, 1320), (820, 1371), (294, 1479)]), OcrPrediction(score=0.9427950382232666, text='MFraunhofer', location=[(742, 1147), (954, 1127), (959, 1177), (747, 1198)]), OcrPrediction(score=0.8624115586280823, text='Montad', location=[(1695, 1869), (1764, 1869), (1764, 1890), (1695, 1890)])], [OcrPrediction(score=0.9832192659378052, text='Fraunhofer', location=[(1382, 0), (2114, 76), (2098, 191), (1366, 89)]), OcrPrediction(score=0.9528532028198242, text='Fraunhofer', location=[(547, 1064), (769, 1033), (776, 1084), (554, 1115)]), OcrPrediction(score=0.9701785445213318, text='IPK', location=[(1974, 174), (2100, 195), (2088, 267), (1962, 246)]), OcrPrediction(score=0.9614076018333435, text='Kl-basierte Anomaliedetektion', location=[(97, 1396), (629, 1246), (644, 1298), (112, 1448)])]]\n"
          ]
        }
      ],
      "source": [
        "from landingai.predict import OcrPredictor\n",
        "\n",
        "# NOTE: The API key below has a rate limit. Use an API key from your own LandingLens account for production use.\n",
        "API_KEY = \"land_sk_xvncrEuP8eLAfh75NWhhbbqYjRBo0OmJzYB1qF2guvD6dFe05V\"\n",
        "ocr_predictor = OcrPredictor(api_key=API_KEY)\n",
        "\n",
        "ocr_preds = []\n",
        "overlayed_ocr = []\n",
        "print(frames[0])\n",
        "for frame in frames:\n",
        "  ocr_pred = ocr_predictor.predict(frame)\n",
        "  ocr_preds.append(ocr_pred)\n",
        "\n",
        "# for frame in frames:\n",
        "#     for plate in frame:\n",
        "#         ocr_pred = ocr_predictor.predict(plate)\n",
        "#         ocr_preds.append(ocr_pred)\n",
        "#         overlay = visualize.overlay_predictions(ocr_pred, plate)\n",
        "#         overlayed_ocr.append(overlay)\n",
        "print(ocr_preds)\n",
        "for frame, ocr_pred in zip(overlayed_ocr, ocr_preds):\n",
        "    if len(ocr_pred) == 0:\n",
        "        continue\n",
        "    display(frame)\n",
        "    for text in ocr_pred:\n",
        "        print(text)"
      ]
    },
    {
      "cell_type": "markdown",
      "metadata": {
        "id": "hsRc6O84lRZ5"
      },
      "source": [
        "## **To be done: text output as image"
      ]
    }
  ],
  "metadata": {
    "colab": {
      "provenance": [],
      "include_colab_link": true
    },
    "kernelspec": {
      "display_name": "Python 3 (ipykernel)",
      "language": "python",
      "name": "python3"
    },
    "language_info": {
      "codemirror_mode": {
        "name": "ipython",
        "version": 3
      },
      "file_extension": ".py",
      "mimetype": "text/x-python",
      "name": "python",
      "nbconvert_exporter": "python",
      "pygments_lexer": "ipython3",
      "version": "3.10.9"
    }
  },
  "nbformat": 4,
  "nbformat_minor": 0
}